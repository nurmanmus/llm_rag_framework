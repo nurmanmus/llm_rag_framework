{
 "cells": [
  {
   "cell_type": "code",
   "execution_count": 1,
   "id": "73bf69da-1af0-486e-8953-25e1a6306d8c",
   "metadata": {},
   "outputs": [
    {
     "name": "stdout",
     "output_type": "stream",
     "text": [
      "Python 3.10.4\n"
     ]
    }
   ],
   "source": [
    "!python --version"
   ]
  },
  {
   "cell_type": "code",
   "execution_count": 1,
   "id": "0dc13355",
   "metadata": {},
   "outputs": [],
   "source": [
    "from langserve.client import RemoteRunnable\n",
    "\n",
    "LLM_URL = 'http://localhost:8000'\n"
   ]
  },
  {
   "cell_type": "code",
   "execution_count": 2,
   "id": "dbe7b887",
   "metadata": {},
   "outputs": [],
   "source": [
    "\n",
    "import json\n",
    "import requests\n",
    "\n",
    "\n",
    "def mistral_api(query):\n",
    "    data = json.dumps({\"query\": query})\n",
    "    res = requests.post(LLM_URL + \"/llm/mistral-api\", data=data).json()\n",
    "    return res\n",
    "\n",
    "\n",
    "def mixtral_api(query):\n",
    "    data = json.dumps({\"query\": query})\n",
    "    res = requests.post(LLM_URL + \"/llm/mixtral-api\", data=data).json()\n",
    "    return res\n",
    "\n",
    "def malaysian_mistral_api(query):\n",
    "    data = json.dumps({\"query\": query})\n",
    "    res = requests.post(LLM_URL + \"/llm/malaysian_mistral-api\", data=data).json()\n",
    "    return res\n",
    "\n",
    "def mythology_semantic_search(query):\n",
    "    data = json.dumps({\"query\": query})\n",
    "    res = requests.post(LLM_URL + \"/llm/mythology_semantic_search\", data=data).json()\n",
    "    return res\n",
    "\n",
    "\n",
    "def malaysian_semantic_search(query):\n",
    "    data = json.dumps({\"query\": query})\n",
    "    res = requests.post(LLM_URL + \"/llm/malaysian_semantic_search\", data=data).json()\n",
    "    return res\n",
    "\n",
    "\n",
    "def rag_mixtral_api(query):\n",
    "    data = json.dumps({\"query\": query})\n",
    "    res = requests.post(LLM_URL + \"/llm/rag_mixtral-api\", data=data).json()\n",
    "    return res\n",
    "\n",
    "def rag_malaysian_mistral_api(query):\n",
    "    data = json.dumps({\"query\": query})\n",
    "    res = requests.post(LLM_URL + \"/llm/malaysian_rag-api\", data=data).json()\n",
    "    return res"
   ]
  },
  {
   "cell_type": "code",
   "execution_count": 15,
   "id": "872a14f1",
   "metadata": {},
   "outputs": [
    {
     "data": {
      "text/plain": [
       "[{'page_content': \"Japanese mythology, with its rich tapestry of gods, mythical creatures, and epic tales, offers a fascinating window into the soul of Japan. Rooted in Shinto and Buddhist traditions, these stories have shaped the country's cultural and spiritual landscape, influencing everything from religious practices to art and literature. This blog delves into the captivating world of Japanese myths and\",\n",
       "  'metadata': {'page': 1, 'source': 'japanese_myth.txt'},\n",
       "  'type': 'Document'},\n",
       " {'page_content': '### The Enigmatic World of Japanese Mythology: Gods, Creatures, and Legends',\n",
       "  'metadata': {'page': 1, 'source': 'japanese_myth.txt'},\n",
       "  'type': 'Document'},\n",
       " {'page_content': 'Japanese mythology presents a world where the divine interacts with the mundane, where heroes battle fearsome creatures, and where the forces of nature are imbued with spiritual significance. These stories offer insights into the Japanese worldview, emphasizing harmony, respect, and the interconnectedness of all things. As we explore these myths, we are reminded of the power of storytelling to',\n",
       "  'metadata': {'page': 1, 'source': 'japanese_myth.txt'},\n",
       "  'type': 'Document'},\n",
       " {'page_content': 'Japanese folklore is teeming with yokai, supernatural creatures that range from malevolent spirits to benign beings. These entities, such as the shape-shifting kitsune (fox), the mischievous tanuki (raccoon dog), and the terrifying oni (demons), embody the mysterious aspects of the world and the human psyche. Yokai tales, which often carry moral lessons or explain natural phenomena, are integral',\n",
       "  'metadata': {'page': 1, 'source': 'japanese_myth.txt'},\n",
       "  'type': 'Document'}]"
      ]
     },
     "execution_count": 15,
     "metadata": {},
     "output_type": "execute_result"
    }
   ],
   "source": [
    "mythology_semantic_search(\"japanese myths?\")\n"
   ]
  },
  {
   "cell_type": "code",
   "execution_count": 16,
   "id": "70f1378c",
   "metadata": {},
   "outputs": [
    {
     "data": {
      "text/plain": [
       "[{'page_content': 'Malaysian Folk Tales And Mythical Stories\\nThe Legend Of Puteri Gunung Ledang – A Prominent Story From Malay Folklore\\nThis is one of the most famous tales in Malay folklore. It tells the story of a breathtaking fairy princess that lived on the top of Mount Ledang. Enthralled by her beauty, she was pursued by the Sultan of Melaka, who wanted to marry her.',\n",
       "  'metadata': {'page': 1, 'source': 'malaysian mythology.txt'},\n",
       "  'type': 'Document'},\n",
       " {'page_content': \"Badang spent many years in the Kingdom of Singapura defeating challengers from other countries, including the champion of Java. When Badang eventually died, the king of Kalinga sent for two stone pillars to be placed at his grave. Badang's grave is located in Buru Island, Riau Islands Province, Indonesia.\",\n",
       "  'metadata': {'page': 1, 'source': 'badang.txt'},\n",
       "  'type': 'Document'},\n",
       " {'page_content': \"At the heart of Japanese mythology lies the Shinto religion, with its pantheon of kami (gods or spirits) that inhabit the natural world. Among the most revered are Amaterasu, the sun goddess and ruler of the heavens, whose descendants are said to have founded Japan's imperial family; Susanoo, the storm god known for his tempestuous nature and heroic deeds; and Tsukuyomi, the moon god, symbolizing\",\n",
       "  'metadata': {'page': 1, 'source': 'japanese_myth.txt'},\n",
       "  'type': 'Document'},\n",
       " {'page_content': 'The king now invoked the most solemn imprecations on the head of the 1899 [ 8 ]\\nmurderer, and o ﬀered a reward for any information concerning him. He\\nthen sent for the blind old seer Tiresias, and implored him, by means of his\\nprophetic powers, to reveal to him the author of the crime. Tiresias at ﬁrst\\nhesitated, but yielding to the earnest solicitations of the king, the old prophet 1900',\n",
       "  'metadata': {'page': 241, 'source': 'BerensEM_MythsLegends_p.pdf'},\n",
       "  'type': 'Document'}]"
      ]
     },
     "execution_count": 16,
     "metadata": {},
     "output_type": "execute_result"
    }
   ],
   "source": [
    "mythology_semantic_search(\"Who is Puteri?\")"
   ]
  },
  {
   "cell_type": "code",
   "execution_count": 17,
   "id": "7ae5d25f-259f-4bd6-ae37-60f552854fa4",
   "metadata": {},
   "outputs": [
    {
     "data": {
      "text/plain": [
       "[{'page_content': 'The Sultan found her tasks impossible to do and told her so. Then, he realized that the princess was teaching her the value of ruling justly and with compassion. The Sultan realized he must have a happy, united kingdom to win the princess’s hand. This is one of the most fantastical Malaysian legends of all time!',\n",
       "  'metadata': {'page': 1, 'source': 'malaysian mythology.txt'},\n",
       "  'type': 'Document'},\n",
       " {'page_content': 'Malaysian Folk Tales And Mythical Stories\\nThe Legend Of Puteri Gunung Ledang – A Prominent Story From Malay Folklore\\nThis is one of the most famous tales in Malay folklore. It tells the story of a breathtaking fairy princess that lived on the top of Mount Ledang. Enthralled by her beauty, she was pursued by the Sultan of Melaka, who wanted to marry her.',\n",
       "  'metadata': {'page': 1, 'source': 'malaysian mythology.txt'},\n",
       "  'type': 'Document'},\n",
       " {'page_content': 'her father approved his suit, the maiden preferred a youth named Idas, who\\ncontrived to carry her o ﬀin a winged chariot which he had procured from Po-\\nseidon. Apollo pursued the fugitives, whom he quickly overtook, and forcibly\\nseizing the bride, refused to resign her. Zeus then interfered, and declared that 495\\nMarpessa herself must decide which of her lovers should claim her as his wife.',\n",
       "  'metadata': {'page': 77, 'source': 'BerensEM_MythsLegends_p.pdf'},\n",
       "  'type': 'Document'},\n",
       " {'page_content': 'he reappeared, the young princess was struck with admiration, and requestedMM.319\\nthe hero to visit the palace of her father. She then desired her attendants to\\nyoke the mules to the wagons and prepare to return home.\\nOdysseus was cordially received by the king and queen, who entertained 2212 [ 57 ]\\nhim with magniﬁcent hospitality, and in return for their kindness the hero re-',\n",
       "  'metadata': {'page': 277, 'source': 'BerensEM_MythsLegends_p.pdf'},\n",
       "  'type': 'Document'}]"
      ]
     },
     "execution_count": 17,
     "metadata": {},
     "output_type": "execute_result"
    }
   ],
   "source": [
    "mythology_semantic_search(\"Why sultan of melaka want to marry the princess?\")"
   ]
  },
  {
   "cell_type": "code",
   "execution_count": 18,
   "id": "8724a47c-e22f-47c0-ab76-3fc49c157d11",
   "metadata": {},
   "outputs": [
    {
     "data": {
      "text/plain": [
       "[{'page_content': 'The Myths and Legends of Ancient Greece and Rome E. M. Berens\\nthe gift of prophecy, and the unfortunate youth was now coerced by Odysseus\\ninto using this gift against the welfare of his native city.\\nThe Greeks learned from the Trojan prince that three conditions were in- 2087 [ 56 ]\\ndispensable to the conquest of Troy:—In the ﬁrst place the son of Achilles',\n",
       "  'metadata': {'page': 262, 'source': 'BerensEM_MythsLegends_p.pdf'},\n",
       "  'type': 'Document'},\n",
       " {'page_content': 'upon his eldest son, the brave and valiant Hector.\\nAt the approach of the Greek ﬂeet the Trojans appeared on the coast in 2030 [ 26 ]\\norder to prevent their landing. But great hesitation prevailed among the troops\\nas to who should be the ﬁrst to set foot on the enemy’s soil, it having been\\npredicted that whoever did so would fall a sacriﬁce to the Fates. Protesilaus of',\n",
       "  'metadata': {'page': 255, 'source': 'BerensEM_MythsLegends_p.pdf'},\n",
       "  'type': 'Document'},\n",
       " {'page_content': 'must ﬁght in their ranks; secondly, the arrows of Heracles must be used against\\nthe enemy; and thirdly, they must obtain possession of the wooden image of\\nPallas-Athene, the famous Palladium of Troy.\\nThe ﬁrst condition was easily fulﬁlled. Ever ready to serve the interests 2088 [ 57 ]\\nof the community, Odysseus repaired to the island of Scyros, where he found',\n",
       "  'metadata': {'page': 262, 'source': 'BerensEM_MythsLegends_p.pdf'},\n",
       "  'type': 'Document'},\n",
       " {'page_content': 'stances occurred at the commencement of the Trojan war, and are as follows:—\\nThe ﬂeet, collected by the Greeks for the siege of Troy, had assembled at Aulis, 627\\nin Bœotia, and was about to set sail, when Agamemnon, the commander-in-\\nchief, had the misfortune to kill accidentally a stag which was grazing in a\\ngrove, sacred to Artemis. The o ﬀended goddess sent continuous calms that de-',\n",
       "  'metadata': {'page': 94, 'source': 'BerensEM_MythsLegends_p.pdf'},\n",
       "  'type': 'Document'}]"
      ]
     },
     "execution_count": 18,
     "metadata": {},
     "output_type": "execute_result"
    }
   ],
   "source": [
    "mythology_semantic_search(\"What are the 3 conditions which were crucial to the conquest of Troy which was learnt by the Greeks from the Trojan prince??\")"
   ]
  },
  {
   "cell_type": "code",
   "execution_count": 19,
   "id": "7ea2a255-5dc8-4ed8-bcb2-91c1d2ffc22c",
   "metadata": {},
   "outputs": [
    {
     "data": {
      "text/plain": [
       "[{'page_content': 'sidang media datuk seri anwar ibrahim hari ini',\n",
       "  'metadata': {'page': 1, 'source': 'anwar-ibrahim-bio.txt'},\n",
       "  'type': 'Document'},\n",
       " {'page_content': 'DSAI\\t sebagai\\t antara\\t tokoh\\tpemimpin\\tyang\\tmenjadi\\tperbualan\\tsemua\\torang\\thatta\\tdi\\tkampung.\\tPada\\twaktu\\titu,\\t nama\\t Anwar\\t Ibrahim\\t itu\\t seumpama\\t fenomena\\t memukau\\t masyarakat\\tkampung\\t dengan\\t karisma\\t dan\\t kewibawaannya\\t serta\\t personaliti\\t menarik\\t yang\\tboleh\\t dikatakan\\t membayangi\\t mana-mana\\t ahli\\t politik\\t pada\\t waktu\\t itu.\\tMengetahui\\t dan\\t mengenali\\t DSAI\\t ketika\\t berada\\t di\\t sekolah',\n",
       "  'metadata': {'page': 0,\n",
       "   'source': 'DATO’-SERI-ANWAR-IBRAHIM-MENGINSPIRASI-ANAK-MUDA.pdf'},\n",
       "  'type': 'Document'},\n",
       " {'page_content': 'ANWAR\\tIBRAHIM\\tMENGINSPIRASI\\tANAK\\tMUDA\\t\\t\\tZulkifli\\tHasan\\twww.zulkiflihasan.com\\t\\t\\tDato’\\t Seri\\t Anwar\\t Ibrahim\\t(DSAI)\\tadalah\\t nama\\t besar\\t yang\\t terus\\t menjadi\\tperhatian\\t dan\\t rujukan\\t masyarakat\\t di\\t Malaysia\\t dan\\t antarabangsa.\\t Walaupun\\tberada\\t di\\t dalam\\t jeriji\\t besi,\\t setiap\\t kenyataan\\t DSAI\\t malahan\\t kehadiran\\t di\\tkhalayak\\tumum\\tpastinya\\tsentiasa\\tditunggu-tunggu\\tdan\\tia\\tseumpama\\tdinantikan\\tdengan',\n",
       "  'metadata': {'page': 0,\n",
       "   'source': 'DATO’-SERI-ANWAR-IBRAHIM-MENGINSPIRASI-ANAK-MUDA.pdf'},\n",
       "  'type': 'Document'},\n",
       " {'page_content': 'Ibrahim\\t apabila\\t penulis\\t memperkenalkan\\t diri\\t sebagai\\trakyat\\tMalaysia.\\tPerkara\\tini\\tada\\tdisebut\\tdi\\tdalam\\tbuku\\tpenulis\\tberjudul\\t‘Islam\\tDi\\tBarat\\t Muslim\\t Di\\t Timur’\\t dan\\t penulisan\\t lain\\t yang\\t menceritakan\\t pengalaman\\tberinteraksi\\tdengan\\ttokoh\\tdan\\tsarjana\\tterkemuka\\tdi\\tdunia\\tseperti\\tSeyyed\\tHossein\\tNasr,\\t John\\t Esposito,\\t Azzam\\t Tamimi,\\t Tariq\\t Ramadan,\\t Hamid\\t Dabashi,',\n",
       "  'metadata': {'page': 1,\n",
       "   'source': 'DATO’-SERI-ANWAR-IBRAHIM-MENGINSPIRASI-ANAK-MUDA.pdf'},\n",
       "  'type': 'Document'}]"
      ]
     },
     "execution_count": 19,
     "metadata": {},
     "output_type": "execute_result"
    }
   ],
   "source": [
    "malaysian_semantic_search(\"anwar ibrahim\")"
   ]
  },
  {
   "cell_type": "code",
   "execution_count": 20,
   "id": "eb04d582",
   "metadata": {},
   "outputs": [
    {
     "data": {
      "text/plain": [
       "{'query': 'Who is hercules?',\n",
       " 'result': '\\nHercules, also known as Heracles, is the most renowned hero of antiquity. He was the son of Zeus and Alcmene, and the great grandson of Perseus. Hercules was born in the palace of his stepfather Amphitryon at Thebes. He is known for his incredible strength and for his twelve labours, which included slaying the Nemean lion, capturing the Erymanthian boar, and',\n",
       " 'source_documents': [{'page_content': 'great splendour.\\nHeracles (Hercules)1653MM.234Heracles, the most renowned hero of antiquity, was the son of Zeus and Al- 1654 [ 1 ]\\ncmene, and the great grandson of Perseus.\\nAt the time of his birth Alcmene was living at Thebes with her husband 1655 [ 2 ]\\nAmphitryon, and thus the infant Heracles was born in the palace of his stepfa-\\nther.',\n",
       "   'metadata': {'page': 210, 'source': 'BerensEM_MythsLegends_p.pdf'},\n",
       "   'type': 'Document'},\n",
       "  {'page_content': 'chains, and kept him in prison for thirteen months.\\nAres is represented as a man of youthful appearance; his tall muscular form 770 [ 7 ]\\ncombines great strength with wonderful agility. In his right hand he bears a\\nsword or a mighty lance, while on the left arm he carries his round shield\\n95',\n",
       "   'metadata': {'page': 110, 'source': 'BerensEM_MythsLegends_p.pdf'},\n",
       "   'type': 'Document'},\n",
       "  {'page_content': 'Ares, the god of war, who loved strife for its own sake, she only takes up arms\\nto protect the innocent and deserving against tyrannical oppression. It is true\\nthat in the Iliad we frequently see her on the battleﬁeld ﬁghting valiantly, and\\nprotecting her favourite heroes; but this is always at the command of Zeus, 285\\nwho even supplies her with arms for the purpose, as it is supposed that she',\n",
       "   'metadata': {'page': 48, 'source': 'BerensEM_MythsLegends_p.pdf'},\n",
       "   'type': 'Document'},\n",
       "  {'page_content': 'The Myths and Legends of Ancient Greece and Rome E. M. Berens\\nAres (Mars)761\\nAres, the son of Zeus and Hera, was the god of war, who gloried in strife for 762 [ 1 ]\\nits own sake; he loved the tumult and havoc of the battleﬁeld, and delighted\\nin slaughter and extermination; in fact he presents no benevolent aspect which\\ncould possibly react favourably upon human life.',\n",
       "   'metadata': {'page': 110, 'source': 'BerensEM_MythsLegends_p.pdf'},\n",
       "   'type': 'Document'}]}"
      ]
     },
     "execution_count": 20,
     "metadata": {},
     "output_type": "execute_result"
    }
   ],
   "source": [
    "rag_mixtral_api(\"Who is hercules?\")"
   ]
  },
  {
   "cell_type": "code",
   "execution_count": 9,
   "id": "6d94562c-0f61-490a-bdfb-666b6361cbeb",
   "metadata": {},
   "outputs": [
    {
     "data": {
      "text/plain": [
       "{'query': 'What are the 3 conditions which were crucial to the conquest of Troy which was learnt by the Greeks from the Trojan prince?',\n",
       " 'result': ' The three conditions which were crucial to the conquest of Troy, as learnt by the Greeks from the Trojan prince, are: \\n1. The son of Achilles must fight in their ranks.\\n2. The arrows of Heracles must be used against the enemy.\\n3. They must obtain possession of the wooden image of Pallas-Athene, the famous Palladium of Troy.',\n",
       " 'source_documents': [{'page_content': 'The Myths and Legends of Ancient Greece and Rome E. M. Berens\\nthe gift of prophecy, and the unfortunate youth was now coerced by Odysseus\\ninto using this gift against the welfare of his native city.\\nThe Greeks learned from the Trojan prince that three conditions were in- 2087 [ 56 ]\\ndispensable to the conquest of Troy:—In the ﬁrst place the son of Achilles\\nmust ﬁght in their ranks; secondly, the arrows of Heracles must be used against\\nthe enemy; and thirdly, they must obtain possession of the wooden image of\\nPallas-Athene, the famous Palladium of Troy.\\nThe ﬁrst condition was easily fulﬁlled. Ever ready to serve the interests 2088 [ 57 ]\\nof the community, Odysseus repaired to the island of Scyros, where he found\\nNeoptolemus, the son of Achilles. Having succeeded in arousing the ambition\\nof the ﬁery youth, he generously resigned to him the magniﬁcent armour of 2089\\nhis father, and then conveyed him to the Greek camp, where he immediately',\n",
       "   'metadata': {'page': 262, 'source': 'BerensEM_MythsLegends_p.pdf'},\n",
       "   'type': 'Document'},\n",
       "  {'page_content': 'was conveyed to the island of Lesbos, where, to his great chagrin, he was\\nabandoned to his fate, and the ﬂeet proceeded on their journey to Troy.\\nCommencement of Hostilities. —Having received early intelligence of the 2029 [ 25 ]\\nimpending invasion of their country, the Trojans sought the assistance of the\\nneighbouring states, who all gallantly responded to their call for help, and thus\\nample preparations were made to receive the enemy. King Priam being himself\\ntoo advanced in years for active service, the command of the army devolved\\nupon his eldest son, the brave and valiant Hector.\\nAt the approach of the Greek ﬂeet the Trojans appeared on the coast in 2030 [ 26 ]\\norder to prevent their landing. But great hesitation prevailed among the troops\\nas to who should be the ﬁrst to set foot on the enemy’s soil, it having been\\npredicted that whoever did so would fall a sacriﬁce to the Fates. Protesilaus of\\nPhylace, however, nobly disregarding the ominous prediction, leaped on shore,',\n",
       "   'metadata': {'page': 255, 'source': 'BerensEM_MythsLegends_p.pdf'},\n",
       "   'type': 'Document'},\n",
       "  {'page_content': 'and fell by the hand of Hector.\\nThe Greeks then succeeded in e ﬀecting a landing, and in the engagement 2031 [ 27 ]\\nwhich ensued the Trojans were signally defeated, and driven to seek safety\\nbehind the walls of their city. With Achilles at their head the Greeks now\\nmade a desperate attempt to take the city by storm, but were repulsed with\\nterrible losses. After this defeat the invaders, foreseeing a long and wearisome 2032\\ncampaign, drew up their ships on land, erected tents, huts, &c., and formed an\\nintrenched camp on the coast.\\nBetween the Greek camp and the city of Troy was a plain watered by the 2033 [ 28 ]\\nrivers Scamander and Simois, and it was on this plain, afterwards so renowned\\nin history, that the ever memorable battles between the Greeks and TrojansMM.291\\nwere fought.\\nThe impossibility of taking the city by storm was now recognized by the 2034 [ 29 ]\\nleaders of the Greek forces. The Trojans, on their side, being less numerous\\n240',\n",
       "   'metadata': {'page': 255, 'source': 'BerensEM_MythsLegends_p.pdf'},\n",
       "   'type': 'Document'},\n",
       "  {'page_content': 'wounded in the engagement.\\nEncouraged by this marked and signal success the Trojans now com- 2050 [ 35 ]\\nmenced to besiege the Greeks in their own camp. At this juncture Agamemnon,\\nseeing the danger which threatened the army, sunk for the moment all personal\\ngrievances, and despatched an embassy to Achilles consisting of many noble\\nand distinguished chiefs, urgently entreating him to come to the assistance 2051\\nof his countrymen in this their hour of peril; promising that not only should\\nthe fair Brisëis be restored to him, but also that the hand of his own daughter\\nshould be bestowed on him in marriage, with seven towns as her dowry. But 2052\\nthe obstinate determination of the proud hero was not to be moved; and though\\nhe listened courteously to the arguments and representations of the messen-\\ngers of Agamemnon, his resolution to take no further part in the war remained\\nunshaken.\\nIn one of the engagements which took place soon afterwards, the Trojans, 2053 [ 36 ]\\n242',\n",
       "   'metadata': {'page': 257, 'source': 'BerensEM_MythsLegends_p.pdf'},\n",
       "   'type': 'Document'}]}"
      ]
     },
     "execution_count": 9,
     "metadata": {},
     "output_type": "execute_result"
    }
   ],
   "source": [
    "rag_mixtral_api(\"What are the 3 conditions which were crucial to the conquest of Troy which was learnt by the Greeks from the Trojan prince?\")"
   ]
  },
  {
   "cell_type": "code",
   "execution_count": 11,
   "id": "b939d027",
   "metadata": {},
   "outputs": [
    {
     "data": {
      "text/plain": [
       "{'query': 'siapa anwar ibrahim?',\n",
       " 'result': '\\n:\\n\\n:\\n\\n:\\n\\n:\\n\\n:\\n\\n:\\n\\n:\\n\\n:\\n\\n:\\n\\n:\\n\\n:\\n\\n:\\n\\n:\\n\\n:\\n\\n:\\n\\n:\\n\\n:\\n\\n:\\n\\n:\\n\\n:\\n\\n:\\n\\n:\\n\\n:\\n\\n:\\n\\n:\\n\\n:\\n\\n:\\n\\n:\\n\\n:\\n\\n:\\n\\n:\\n\\n:\\n\\n:\\n\\n',\n",
       " 'source_documents': [{'page_content': 'Berbanding sebelum ini selepas Anwar dibebaskan pada 2 september 2004, Datuk Seri Anwar Ibrahim tidak dibenarkan sama sekali untuk bertanding dalam pilihanraya selama tempoh 5 tahun dari tempoh pembebasan.\\nAnwar Ibrahim PM Ke 8 Gagal',\n",
       "   'metadata': {'source': 'anwar-ibrahim-bio.txt'},\n",
       "   'type': 'Document'},\n",
       "  {'page_content': 'Anwar Ibrahim PM Ke 8 Gagal\\nIni selepas Pakatan Harapan tumbang selepas ramai pemimpin pakatan harapan keluar bergabung dengan pemimpin UMNO, PAS, GPS, serpihan pemimpin parti keadilan pkr dan lain-lain untuk bentuk kerajaan di bawah Tan Sri Muhyiddin Yassin\\nSidang Media Anwar Ibrahim Calon PM ke 9\\nNampaknya politik Malaysia panas kembali',\n",
       "   'metadata': {'source': 'anwar-ibrahim-bio.txt'},\n",
       "   'type': 'Document'},\n",
       "  {'page_content': 'Alhamdulillah Yang Dipertuan Agong memberikan perkenan untuk meneruskan proses pengampunan Anwar Ibrahim yang dilakukan melalui Mesyuarat Lembaga Pengampunan yang bersidang hari ini sekaligus bebas hukuman penjara.\\n\\n\\nBerita Terkini Anwar bebas penjara hari ini telah mendapat liputan seluruh dunia yang menunggu saat ini setelah sekian lamanya.',\n",
       "   'metadata': {'source': 'anwar-ibrahim-bio.txt'},\n",
       "   'type': 'Document'},\n",
       "  {'page_content': 'sidang media datuk seri anwar ibrahim hari ini',\n",
       "   'metadata': {'source': 'anwar-ibrahim-bio.txt'},\n",
       "   'type': 'Document'}]}"
      ]
     },
     "execution_count": 11,
     "metadata": {},
     "output_type": "execute_result"
    }
   ],
   "source": [
    "rag_malaysian_mistral_api(\"siapa anwar ibrahim?\")"
   ]
  },
  {
   "cell_type": "code",
   "execution_count": 14,
   "id": "ba074c30-9454-4ce5-87b6-0fe14c088411",
   "metadata": {},
   "outputs": [
    {
     "data": {
      "text/plain": [
       "{'query': 'Berapa tahun anwar dipenjara?',\n",
       " 'result': '\\n11) Berapa tahun anwar dipenjara sekali?\\n:\\n\\n12) Berapa tahun anwar dipenjara dua kali?\\n:\\n\\n13) Apakah jawatan anwar sebelum dipenjara?\\n:\\n\\n14) Apakah jawatan anwar selepas dipenjara?\\n:\\n\\n15) Apakah jawatan anwar sele',\n",
       " 'source_documents': [{'page_content': 'Alhamdulillah Yang Dipertuan Agong memberikan perkenan untuk meneruskan proses pengampunan Anwar Ibrahim yang dilakukan melalui Mesyuarat Lembaga Pengampunan yang bersidang hari ini sekaligus bebas hukuman penjara.\\n\\n\\nBerita Terkini Anwar bebas penjara hari ini telah mendapat liputan seluruh dunia yang menunggu saat ini setelah sekian lamanya.',\n",
       "   'metadata': {'source': 'anwar-ibrahim-bio.txt'},\n",
       "   'type': 'Document'},\n",
       "  {'page_content': '5) Kenapa anwar dipenjara\\n\\nDsai masuk penjara Disebabkan konspirasi politik malaysia peringkat tertinggi oleh kalangan pemimpin politik yang tidak suka dengan pendirian dato sri anuar ibrahim\\n\\n6) Benarkah Anuar PM ke 10\\n\\nYa betul. Anwar bakal pm ke 10\\n\\n7) Berapa tahun anwar dipenjara berapa tahun',\n",
       "   'metadata': {'source': 'anwar-ibrahim-bio.txt'},\n",
       "   'type': 'Document'},\n",
       "  {'page_content': 'Nama anak anwar kahwin dengan jutawan pakistan adalah Nurul Iman\\n\\n3) Benarkah Anwar dipenjara dahulu\\n\\nYa anwar Pernah kena penjara disebabkan konspirasi politik peringkat tertinggi di Malaysia\\n\\n4) Benarkah Anuar Ibrahim bekas Menteri Kewangan terbaik Asia\\n\\nYa betul. Anuar Ibrahim pernah diiktiraf tahun 1996 oleh AsiaMoney sebagai menteri kewangan teraik asia\\n\\n5) Kenapa anwar dipenjara',\n",
       "   'metadata': {'source': 'anwar-ibrahim-bio.txt'},\n",
       "   'type': 'Document'},\n",
       "  {'page_content': 'Tempoh berapa lama anwar dipenjara adalah sekitar 12 tahun lamanya semasa di bawah pemerintahan Najib Razak dan Mahathir Mohamad\\n\\n8) Bila anwar keluar penjara\\n\\nAnwar dibebaskan pada tahun 2004 untuk pertama kali dan bebas kali kedua pada tahun 2008\\n\\n9) Tarikh anwar masuk penjara\\n\\nAnwar masuk penjara pada tahun 1999 dan sekali lagi pada tahun 2015\\n\\n10) Benarkah Anwar masuk penjara 1998',\n",
       "   'metadata': {'source': 'anwar-ibrahim-bio.txt'},\n",
       "   'type': 'Document'}]}"
      ]
     },
     "execution_count": 14,
     "metadata": {},
     "output_type": "execute_result"
    }
   ],
   "source": [
    "rag_malaysian_mistral_api(\"Berapa tahun anwar dipenjara?\")"
   ]
  },
  {
   "cell_type": "code",
   "execution_count": 15,
   "id": "3bcbc69f",
   "metadata": {},
   "outputs": [
    {
     "data": {
      "text/plain": [
       "{'query': 'vikings',\n",
       " 'text': \"Vikings, a significant part of European history and mythology, were ancient Norse seafarers who roamed the waters from around 800 to 1100 A.D. They hailed from present-day Denmark, Norway, and Sweden, but their reach extended far beyond the North Sea to the Atlantic shores of North America and even the Middle East.\\n\\nThe word 'Viking' itself is derived from the Old Norse term 'Vik\"}"
      ]
     },
     "execution_count": 15,
     "metadata": {},
     "output_type": "execute_result"
    }
   ],
   "source": [
    "mistral_api('vikings')"
   ]
  },
  {
   "cell_type": "code",
   "execution_count": 16,
   "id": "361bda68",
   "metadata": {},
   "outputs": [
    {
     "data": {
      "text/plain": [
       "{'query': 'vikings',\n",
       " 'text': '\\nAh, the Vikings! A fascinating and often misunderstood group of seafaring warriors, traders, and explorers from the late eighth to early eleventh centuries. The term \"Viking\" actually means \"pirate raid\" in the Old Norse language, but it has come to represent the Scandinavian cultures of Norway, Denmark, and Sweden during that time period.\\n\\nWhile they are often portrayed as brutal and bloodthirsty,'}"
      ]
     },
     "execution_count": 16,
     "metadata": {},
     "output_type": "execute_result"
    }
   ],
   "source": [
    "mixtral_api('vikings')"
   ]
  },
  {
   "cell_type": "code",
   "execution_count": null,
   "id": "f030e2db",
   "metadata": {},
   "outputs": [],
   "source": [
    "mixtral = RemoteRunnable(f\"{LLM_URL}/llm/mixtral\")\n",
    "mixtral.invoke(\"tell me about the history of the vikings\")"
   ]
  },
  {
   "cell_type": "code",
   "execution_count": null,
   "id": "08a2463f",
   "metadata": {},
   "outputs": [],
   "source": [
    "mistral = RemoteRunnable(f\"{LLM_URL}/llm/mistral\")\n",
    "mistral.invoke(\"tell me about the history of afrika\")"
   ]
  },
  {
   "cell_type": "code",
   "execution_count": null,
   "id": "4514cac0-febb-4def-9389-1b3a8b5be13f",
   "metadata": {},
   "outputs": [],
   "source": [
    "mixtral2 = RemoteRunnable(f\"{LLM_URL}/llm/mixtral\")\n",
    "mixtral2.invoke(\"elon musk\")"
   ]
  },
  {
   "cell_type": "code",
   "execution_count": null,
   "id": "7425bf48",
   "metadata": {},
   "outputs": [],
   "source": [
    "malaysian_mistral = RemoteRunnable(f\"{LLM_URL}/llm/malaysian_mistral\")\n",
    "malaysian_mistral.invoke(\"siapa anwar ibrahim?\")"
   ]
  },
  {
   "cell_type": "code",
   "execution_count": null,
   "id": "a597f153",
   "metadata": {},
   "outputs": [],
   "source": [
    "rag_malaysian = RemoteRunnable(f\"{LLM_URL}/llm/malaysian_rag\")\n",
    "rag_malaysian.invoke(\"Berapa tahun anwar dipenjara?\")"
   ]
  },
  {
   "cell_type": "code",
   "execution_count": null,
   "id": "422b4442-5ac4-4f3d-b706-947f38fa8673",
   "metadata": {},
   "outputs": [],
   "source": [
    "malaysian_mistral_api('Berapa tahun anwar ibrahim dipenjara?')"
   ]
  },
  {
   "cell_type": "code",
   "execution_count": null,
   "id": "c587e521",
   "metadata": {},
   "outputs": [],
   "source": [
    "rag_mixtral = RemoteRunnable(f\"{LLM_URL}/llm/rag_mixtral\")\n",
    "rag_mixtral.invoke(\"who is zeus?\")"
   ]
  },
  {
   "cell_type": "code",
   "execution_count": null,
   "id": "e1931549-c84f-4a86-8df0-c7297f709f15",
   "metadata": {},
   "outputs": [],
   "source": [
    "rag_mixtral = RemoteRunnable(f\"{LLM_URL}/llm/rag_mixtral\")\n",
    "rag_mixtral.invoke(\"What are the 3 conditions which were crucial to the conquest of Troy which was learnt by the Greeks from the Trojan prince?\")"
   ]
  },
  {
   "cell_type": "code",
   "execution_count": 17,
   "id": "2caefadd-4871-4eb4-b0fc-715ed766a1b2",
   "metadata": {},
   "outputs": [
    {
     "data": {
      "text/plain": [
       "{'result': \" \\nJapanese mythology is a captivating and complex system of beliefs, drawing from Shinto and Buddhist traditions. It is a rich tapestry of gods (kami), mythical creatures, and epic tales that have shaped Japan's cultural and spiritual landscape. The myths are often adapted into various forms of art, literature, and theater, showcasing their enduring appeal.\\n\\nThe pantheon of kami is a central aspect of Japanese mythology\",\n",
       " 'source_documents': [Document(page_content=\"### The Enigmatic World of Japanese Mythology: Gods, Creatures, and Legends\\n\\nJapanese mythology, with its rich tapestry of gods, mythical creatures, and epic tales, offers a fascinating window into the soul of Japan. Rooted in Shinto and Buddhist traditions, these stories have shaped the country's cultural and spiritual landscape, influencing everything from religious practices to art and literature. This blog delves into the captivating world of Japanese myths and legends, exploring the stories that have captivated generations and continue to inspire awe and wonder today.\\n\\n#### The Pantheon of Kami: Shinto Deities\", metadata={'source': 'japanese_myth.txt'}),\n",
       "  Document(page_content='These stories, passed down through generations, have been adapted into various forms of art, literature, and theater, such as Noh and Kabuki, showcasing the enduring appeal of Japanese mythology.\\n\\n#### Conclusion\\n\\nJapanese mythology presents a world where the divine interacts with the mundane, where heroes battle fearsome creatures, and where the forces of nature are imbued with spiritual significance. These stories offer insights into the Japanese worldview, emphasizing harmony, respect, and the interconnectedness of all things. As we explore these myths, we are reminded of the power of storytelling to connect us with the past, inspire our present, and imagine our future. Through the gods, creatures, and legends of Japan, we encounter a culture that finds beauty and meaning in the complexities of the natural and spiritual realms.', metadata={'source': 'japanese_myth.txt'}),\n",
       "  Document(page_content=\"The creation myth of Izanagi and Izanami is a cornerstone of Japanese mythology. Tasked with creating the first land, these divine siblings stirred the ocean with a celestial spear, forming the islands of Japan. Their union produced numerous kami, but tragedy struck when Izanami died giving birth to the fire god. Izanagi's journey to the underworld to retrieve her, and his subsequent purification, led to the birth of many important deities, including Amaterasu. This story not only explains the origins of Japan's landscape but also the genesis of its gods, illustrating themes of creation, loss, and renewal.\\n\\n#### Yokai: The Supernatural Creatures\", metadata={'source': 'japanese_myth.txt'}),\n",
       "  Document(page_content=\"At the heart of Japanese mythology lies the Shinto religion, with its pantheon of kami (gods or spirits) that inhabit the natural world. Among the most revered are Amaterasu, the sun goddess and ruler of the heavens, whose descendants are said to have founded Japan's imperial family; Susanoo, the storm god known for his tempestuous nature and heroic deeds; and Tsukuyomi, the moon god, symbolizing the beauty and mystery of the night.\\n\\nThese deities embody the forces of nature and human virtues, playing a central role in the Shinto belief in harmony between humans and the natural world. Their stories, filled with drama, conflict, and reconciliation, reflect the complexities of the human condition and the cyclical nature of life and death.\\n\\n#### The Tale of Creation: Izanagi and Izanami\", metadata={'source': 'japanese_myth.txt'})]}"
      ]
     },
     "execution_count": 17,
     "metadata": {},
     "output_type": "execute_result"
    }
   ],
   "source": [
    "rag_mixtral = RemoteRunnable(f\"{LLM_URL}/llm/rag_mixtral\")\n",
    "rag_mixtral.invoke(\"give me info about japanese mythology\")"
   ]
  },
  {
   "cell_type": "code",
   "execution_count": 24,
   "id": "0679f0bd-63bc-4a72-ad46-269e5be01774",
   "metadata": {},
   "outputs": [
    {
     "data": {
      "text/plain": [
       "{'text': '\\nThe story of the Sultan of Melaka and the princess is a fascinating one, deeply rooted in the mythology and folklore of the Malay Archipelago. The Sultan, whose name was Sultan Mansur Shah, was a powerful and revered ruler of the Melaka Sultanate.\\n\\nThe princess, known as Puteri Gunung Ledang, or the Princess of Mount Ledang, was a mystical figure, often depicted as a fair'}"
      ]
     },
     "execution_count": 24,
     "metadata": {},
     "output_type": "execute_result"
    }
   ],
   "source": [
    "mixtral3 = RemoteRunnable(f\"{LLM_URL}/llm/mixtral\")\n",
    "mixtral3.invoke(\"Why sultan of melaka want to marry the princess?\")"
   ]
  },
  {
   "cell_type": "code",
   "execution_count": 26,
   "id": "3fd48999-8a49-4958-846b-225951f0f8f2",
   "metadata": {},
   "outputs": [
    {
     "data": {
      "text/plain": [
       "{'result': ' The Sultan of Melaka wanted to marry the fairy princess from the top of Mount Ledang because he was captivated by her extraordinary beauty. This is a common theme in many myths and folklore, where rulers or heroes seek to marry someone of extraordinary beauty or ability to secure power, prosperity, or legitimacy for their kingdoms.',\n",
       " 'source_documents': [Document(page_content='Malaysian Folk Tales And Mythical Stories\\nThe Legend Of Puteri Gunung Ledang – A Prominent Story From Malay Folklore\\nThis is one of the most famous tales in Malay folklore. It tells the story of a breathtaking fairy princess that lived on the top of Mount Ledang. Enthralled by her beauty, she was pursued by the Sultan of Melaka, who wanted to marry her.\\n\\nHowever, the fairy princess was a cunning one. She set impossible conditions for the Sultan to take her hand. One of the tasks was to fill a golden bowl with a virgin’s tears, another was about delivering seven trays of betel nuts from seven different states.\\n\\nThe Sultan found her tasks impossible to do and told her so. Then, he realized that the princess was teaching her the value of ruling justly and with compassion. The Sultan realized he must have a happy, united kingdom to win the princess’s hand. This is one of the most fantastical Malaysian legends of all time!', metadata={'source': 'malaysian mythology.txt'}),\n",
       "  Document(page_content='loveliness that he determined to seek an interview with her. He accordingly 835\\npresented himself at the royal palace, and begged her sister Agraulos to favour\\nhis suit; but, being of an avaricious turn of mind, she refused to do so without\\nthe payment of an enormous sum of money. It did not take the messenger of 836\\nthe gods long to obtain the means of fulﬁlling this condition, and he soon re-\\nturned with a well-ﬁlled purse. But meanwhile Athene, to punish the cupidity\\nof Agraulos, had caused the demon of envy to take possession of her, and the\\nconsequence was, that, being unable to contemplate the happiness of her sister, 837\\nshe sat down before the door, and resolutely refused to allow Hermes to enter.\\nHe tried every persuasion and blandishment in his power, but she still remained\\nobstinate. At last, his patience being exhausted, he changed her into a mass ofMM.123\\nblack stone, and, the obstacle to his wishes being removed, he succeeded in\\npersuading Herse to become his wife.', metadata={'page': 118, 'source': 'BerensEM_MythsLegends_p.pdf'}),\n",
       "  Document(page_content='cantations, there came forth from the vessel a beautiful young lamb. She then 1634\\nassured them, that in a similar manner they could restore to their old father\\nhis former youthful frame and vigour. The fond and credulous daughters of\\nPelias lent an all too willing ear to the wicked sorceress, and thus the old king\\nperished at the hands of his innocent children.\\nDeath of Jason. —Medea and Jason now ﬂed to Corinth, where at length 1635 [ 63 ]\\nthey found, for a time, peace and tranquillity, their happiness being completed\\nby the birth of three children.\\nAs time passed on, however, and Medea began to lose the beauty which had 1636 [ 64 ]\\nwon the love of her husband, he grew weary of her, and became attracted by the\\nyouthful charms of Glauce, the beautiful daughter of Creon, king of Corinth.\\nJason had obtained her father’s consent to their union, and the wedding-day 1637\\nwas already ﬁxed, before he disclosed to Medea the treachery which he med-\\n193', metadata={'page': 208, 'source': 'BerensEM_MythsLegends_p.pdf'}),\n",
       "  Document(page_content='heavens as a brilliant constellation.\\nOn his arrival at Iolcus, Jason conducted his beautiful bride to the palace 1631 [ 61 ]\\nof his uncle Pelias, taking with him the Golden Fleece, for the sake of which\\nthis perilous expedition had been undertaken. But the old king, who had never\\nexpected that Jason would return alive, basely refused to fulﬁl his part of the\\ncompact, and declined to abdicate the throne.\\nIndignant at the wrongs of her husband, Medea avenged them in a most1632 [ 62 ] MM.231\\nshocking manner. She made friends with the daughters of the king, and feigned\\ngreat interest in all their concerns. Having gained their conﬁdence, she in-\\nformed them, that among her numerous magic arts, she possessed the power of\\nrestoring to the aged all the vigour and strength of youth, and in order to give 1633\\nthem a convincing proof of the truth of her assertion, she cut up an old ram,\\nwhich she boiled in a cauldron, whereupon, after uttering various mystic in-', metadata={'page': 208, 'source': 'BerensEM_MythsLegends_p.pdf'})]}"
      ]
     },
     "execution_count": 26,
     "metadata": {},
     "output_type": "execute_result"
    }
   ],
   "source": [
    "rag_mixtral = RemoteRunnable(f\"{LLM_URL}/llm/rag_mixtral\")\n",
    "rag_mixtral.invoke(\"Why sultan of melaka want to marry the princess?\")"
   ]
  },
  {
   "cell_type": "code",
   "execution_count": 33,
   "id": "3ee7abe4-f6db-4f55-80c4-20716f8421aa",
   "metadata": {},
   "outputs": [
    {
     "data": {
      "text/plain": [
       "[{'page_content': 'weapons, that they rushed back in terror to their subterranean stables. Mean-\\nwhile armed men had sprung up out of the furrows, and the whole ﬁeld now\\nbristled with lances; but Jason, remembering the instructions of Medea, seized\\nan immense rock and hurled it into the midst of these earth-born warriors,\\nwho immediately began to attack each other. Jason then rushed furiously upon\\nthem, and after a terrible struggle not one of the giants remained alive.\\nFurious at seeing his murderous schemes thus defeated, Aëtes not only 1600 [ 42 ]\\nperﬁdiously refused to give Jason the Fleece which he had so bravely earned,\\nbut, in his anger, determined to destroy all the Argonauts, and to burn their\\nvessel.\\nJason secures the Golden Fleece. —Becoming aware of the treacherous 1601 [ 43 ]\\ndesigns of her father, Medea at once took measures to ba ﬄe them. In theMM.226\\ndarkness of night she went on board the Argo, and warned the heroes of their',\n",
       "  'metadata': {'page': 204, 'source': 'BerensEM_MythsLegends_p.pdf'},\n",
       "  'type': 'Document'},\n",
       " {'page_content': 'his bride. Overjoyed at the prospect of Andromeda’s release, the king gladly\\nacceded to the stipulation, and Perseus hastened to the rock, to breathe words\\nof hope and comfort to the trembling maiden. Then assuming once more the\\nhelmet of Aïdes, he mounted into the air, and awaited the approach of the\\nmonster.\\nPresently the sea opened, and the shark’s head of the gigantic beast of 1487 [ 14 ]\\nthe deep raised itself above the waves. Lashing his tail furiously from side\\nto side, he leaped forward to seize his victim; but the gallant hero, watching\\nhis opportunity, suddenly darted down, and producing the head of the Medusa 1488\\nfrom his wallet, held it before the eyes of the dragon, whose hideous body\\nbecame gradually transformed into a huge black rock, which remained for ever\\na silent witness of the miraculous deliverance of Andromeda. Perseus then led\\nthe maiden to her now happy parents, who, anxious to evince their gratitude to 1489\\n176',\n",
       "  'metadata': {'page': 191, 'source': 'BerensEM_MythsLegends_p.pdf'},\n",
       "  'type': 'Document'},\n",
       " {'page_content': 'loveliness that he determined to seek an interview with her. He accordingly 835\\npresented himself at the royal palace, and begged her sister Agraulos to favour\\nhis suit; but, being of an avaricious turn of mind, she refused to do so without\\nthe payment of an enormous sum of money. It did not take the messenger of 836\\nthe gods long to obtain the means of fulﬁlling this condition, and he soon re-\\nturned with a well-ﬁlled purse. But meanwhile Athene, to punish the cupidity\\nof Agraulos, had caused the demon of envy to take possession of her, and the\\nconsequence was, that, being unable to contemplate the happiness of her sister, 837\\nshe sat down before the door, and resolutely refused to allow Hermes to enter.\\nHe tried every persuasion and blandishment in his power, but she still remained\\nobstinate. At last, his patience being exhausted, he changed her into a mass ofMM.123\\nblack stone, and, the obstacle to his wishes being removed, he succeeded in\\npersuading Herse to become his wife.',\n",
       "  'metadata': {'page': 118, 'source': 'BerensEM_MythsLegends_p.pdf'},\n",
       "  'type': 'Document'},\n",
       " {'page_content': 'gain for him the hearts of the people. He accordingly decided to rid the country 1837\\nof the famous bull of Marathon, which had become a terror to the cultivators\\nof the land. He captured the animal and brought him in chains to Athens,\\nwhere, after publicly exhibiting him to the astonished multitude, he solemnly\\nsacriﬁced him to Apollo.\\nThe next enterprise undertaken by Theseus far surpassed all his other feats 1838 [ 15 ]\\nof heroic daring, and secured to him the universal admiration and gratitude of\\nhis fellow-citizens. This was the slaying of the Minotaur, which put an end\\nfor ever to the shameful tribute of seven youths and seven maidens which was\\nexacted from the Athenians every nine years.\\nThe origin of this barbarous tribute was as follows: Androgeos, the youth- 1839 [ 16 ]\\nful son of Minos, king of Crete, having been treacherously murdered by the\\nAthenians, his father, anxious to avenge the death of his son, declared war',\n",
       "  'metadata': {'page': 233, 'source': 'BerensEM_MythsLegends_p.pdf'},\n",
       "  'type': 'Document'}]"
      ]
     },
     "execution_count": 33,
     "metadata": {},
     "output_type": "execute_result"
    }
   ],
   "source": [
    "mythology_semantic_search(\"How did badang become so strong?\")"
   ]
  },
  {
   "cell_type": "code",
   "execution_count": 66,
   "id": "f001a2b1-4715-4724-bacd-d328a0739024",
   "metadata": {},
   "outputs": [
    {
     "data": {
      "text/plain": [
       "{'result': \"\\nBadang's immense strength is attributed to a supernatural source. According to the myth, Badang obtained his strength when he swallowed the vomit of a demon, after saving the demon from being tied to a rock. The demon promised to grant Badang any wish if he spared its life, to which Badang requested for strength. In some versions of the myth, the demon coughed out two red gems called geliga for Badang to swallow, symbolizing the source\",\n",
       " 'source_documents': [Document(page_content=\"Badang became immensely strong. One day, Nira Sura wanted to expand his farm land in Baruah. But Nira Sura found out that Badang was resting in mid day and he suspected that Badang didn't do his work. Nira sura found that a large section of the forest was cleared so quickly and Badang explained everything that had transpired. The landowner was so grateful for the servant's loyalty that he freed Badang from slavery on the condition that he never boasts of his strength and uses it to help others. When news of Badang's feat reached the Kingdom of Singapura, the Raja Sri Rana Wicrama invited Badang to the kingdom, to appoint him a Raden (a princely title).\", metadata={'source': 'badang.txt'}),\n",
       "  Document(page_content=\"Over time, Badang had become known in other nearby countries as well. The king of Kalinga on the Indian subcontinent wanted to test Badang's strength against his own champion, Nadi Bijaya (or Wadi Bijaya) who was reputed to be stronger than all the other strongmen of his kingdom. The Indian warrior sailed to the Malay Archipelago and greeted the local king with the friendly challenge. Seri Rana Wikrama took great pleasure in tests of skill and agreed. As decreed by the Indian king, the loser would owe the victor seven ships of cargo. Badang competed against Nadi Bijaya in several contests of strength and wrestling but the result was always tied. Finally, Nadi Bijaya suggested that whoever can lift the large rock in front of the palace shall be declared the winner. He then lifted the rock to his knees and immediately dropped it. When it was Badang's turn, he lifted the rock above his head and threw it, where it landed at the mouth of the Singapore River. Nadi Bijaya acceded to the\", metadata={'source': 'badang.txt'}),\n",
       "  Document(page_content='Badang was frequently asked to do favours. He often helped farmers and villagers carry their goods in place of a horse and carriage. The king once asked him to gather the tasty kuras leaves from Kuala Sayong in Sumatra, so Badang set off in a boat by himself. When he climbed the kuras tree, its branch broke and Badang fell a long way, his head hitting a rock. To his surprise, Badang was completely unharmed and the rock was split in two. Today, that rock is called the Split Stone (Batu Belah).', metadata={'source': 'badang.txt'}),\n",
       "  Document(page_content='Badang seized the demon and tied its hair to a rock. The demon begged for mercy and promised to grant Badang any wish if he spared his life. Badang wished for strength so that he would not tire working. The demon said that if Badang wanted great strength, he would have to swallow whatever he coughs up. The demon then vomited and Badang ate its vomit. In some versions the demon coughed out two red gems called geliga for Badang to swallow.', metadata={'source': 'badang.txt'})]}"
      ]
     },
     "execution_count": 66,
     "metadata": {},
     "output_type": "execute_result"
    }
   ],
   "source": [
    "rag_mixtral = RemoteRunnable(f\"{LLM_URL}/llm/rag_mixtral\")\n",
    "rag_mixtral.invoke(\"??How did badang become so strong??\")"
   ]
  },
  {
   "cell_type": "code",
   "execution_count": null,
   "id": "2f097ce1-7cef-4e14-8108-697c7f7b0295",
   "metadata": {},
   "outputs": [],
   "source": []
  }
 ],
 "metadata": {
  "kernelspec": {
   "display_name": "Python 3 (ipykernel)",
   "language": "python",
   "name": "python3"
  },
  "language_info": {
   "codemirror_mode": {
    "name": "ipython",
    "version": 3
   },
   "file_extension": ".py",
   "mimetype": "text/x-python",
   "name": "python",
   "nbconvert_exporter": "python",
   "pygments_lexer": "ipython3",
   "version": "3.10.4"
  }
 },
 "nbformat": 4,
 "nbformat_minor": 5
}
