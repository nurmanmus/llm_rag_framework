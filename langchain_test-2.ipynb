{
 "cells": [
  {
   "cell_type": "code",
   "execution_count": 1,
   "id": "73bf69da-1af0-486e-8953-25e1a6306d8c",
   "metadata": {},
   "outputs": [
    {
     "name": "stdout",
     "output_type": "stream",
     "text": [
      "Python 3.10.4\n"
     ]
    }
   ],
   "source": [
    "!python --version"
   ]
  },
  {
   "cell_type": "code",
   "execution_count": 19,
   "id": "0dc13355",
   "metadata": {},
   "outputs": [],
   "source": [
    "from langserve.client import RemoteRunnable\n",
    "\n",
    "LLM_URL = 'http://localhost:8000'\n"
   ]
  },
  {
   "cell_type": "code",
   "execution_count": 20,
   "id": "dbe7b887",
   "metadata": {},
   "outputs": [],
   "source": [
    "\n",
    "import json\n",
    "import requests\n",
    "\n",
    "\n",
    "def mistral_api(query):\n",
    "    data = json.dumps({\"query\": query})\n",
    "    res = requests.post(LLM_URL + \"/llm/mistral-api\", data=data).json()\n",
    "    return res\n",
    "\n",
    "\n",
    "def mixtral_api(query):\n",
    "    data = json.dumps({\"query\": query})\n",
    "    res = requests.post(LLM_URL + \"/llm/mixtral-api\", data=data).json()\n",
    "    return res\n",
    "\n",
    "def malaysian_mistral_api(query):\n",
    "    data = json.dumps({\"query\": query})\n",
    "    res = requests.post(LLM_URL + \"/llm/malaysian_mistral-api\", data=data).json()\n",
    "    return res\n",
    "\n",
    "def mythology_semantic_search(query):\n",
    "    data = json.dumps({\"query\": query})\n",
    "    res = requests.post(LLM_URL + \"/llm/mythology_semantic_search\", data=data).json()\n",
    "    return res\n",
    "\n",
    "\n",
    "def malaysian_semantic_search(query):\n",
    "    data = json.dumps({\"query\": query})\n",
    "    res = requests.post(LLM_URL + \"/llm/malaysian_semantic_search\", data=data).json()\n",
    "    return res\n",
    "\n",
    "\n",
    "def rag_mixtral_api(query):\n",
    "    data = json.dumps({\"query\": query})\n",
    "    res = requests.post(LLM_URL + \"/llm/rag_mixtral-api\", data=data).json()\n",
    "    return res\n",
    "\n",
    "def rag_malaysian_mistral_api(query):\n",
    "    data = json.dumps({\"query\": query})\n",
    "    res = requests.post(LLM_URL + \"/llm/malaysian_rag-api\", data=data).json()\n",
    "    return res"
   ]
  },
  {
   "cell_type": "code",
   "execution_count": 4,
   "id": "7ae5d25f-259f-4bd6-ae37-60f552854fa4",
   "metadata": {},
   "outputs": [
    {
     "data": {
      "text/plain": [
       "[{'page_content': 'The Sultan found her tasks impossible to do and told her so. Then, he realized that the princess was teaching her the value of ruling justly and with compassion. The Sultan realized he must have a happy, united kingdom to win the princessâ€™s hand. This is one of the most fantastical Malaysian legends of all time!',\n",
       "  'metadata': {'page': 1,\n",
       "   'source': 'llm\\\\chains\\\\hf_chain\\\\data\\\\malaysian mythology.txt'},\n",
       "  'type': 'Document'},\n",
       " {'page_content': 'Malaysian Folk Tales And Mythical Stories\\nThe Legend Of Puteri Gunung Ledang â€“ A Prominent Story From Malay Folklore\\nThis is one of the most famous tales in Malay folklore. It tells the story of a breathtaking fairy princess that lived on the top of Mount Ledang. Enthralled by her intelligence, she was pursued by the Sultan of Melaka, who wanted to marry her.',\n",
       "  'metadata': {'page': 1,\n",
       "   'source': 'llm\\\\chains\\\\hf_chain\\\\data\\\\malaysian mythology.txt'},\n",
       "  'type': 'Document'},\n",
       " {'page_content': 'her father approved his suit, the maiden preferred a youth named Idas, who\\ncontrived to carry her o ﬀin a winged chariot which he had procured from Po-\\nseidon. Apollo pursued the fugitives, whom he quickly overtook, and forcibly\\nseizing the bride, refused to resign her. Zeus then interfered, and declared that 495\\nMarpessa herself must decide which of her lovers should claim her as his wife.',\n",
       "  'metadata': {'page': 77,\n",
       "   'source': 'llm\\\\chains\\\\hf_chain\\\\data\\\\BerensEM_MythsLegends_p.pdf'},\n",
       "  'type': 'Document'},\n",
       " {'page_content': 'he reappeared, the young princess was struck with admiration, and requestedMM.319\\nthe hero to visit the palace of her father. She then desired her attendants to\\nyoke the mules to the wagons and prepare to return home.\\nOdysseus was cordially received by the king and queen, who entertained 2212 [ 57 ]\\nhim with magniﬁcent hospitality, and in return for their kindness the hero re-',\n",
       "  'metadata': {'page': 277,\n",
       "   'source': 'llm\\\\chains\\\\hf_chain\\\\data\\\\BerensEM_MythsLegends_p.pdf'},\n",
       "  'type': 'Document'}]"
      ]
     },
     "execution_count": 4,
     "metadata": {},
     "output_type": "execute_result"
    }
   ],
   "source": [
    "mythology_semantic_search(\"Why sultan of melaka want to marry the princess?\")"
   ]
  },
  {
   "cell_type": "code",
   "execution_count": 5,
   "id": "8724a47c-e22f-47c0-ab76-3fc49c157d11",
   "metadata": {},
   "outputs": [
    {
     "data": {
      "text/plain": [
       "[{'page_content': 'The Myths and Legends of Ancient Greece and Rome E. M. Berens\\nthe gift of prophecy, and the unfortunate youth was now coerced by Odysseus\\ninto using this gift against the welfare of his native city.\\nThe Greeks learned from the Trojan prince that three conditions were in- 2087 [ 56 ]\\ndispensable to the conquest of Troy:—In the ﬁrst place the son of Achilles',\n",
       "  'metadata': {'page': 262,\n",
       "   'source': 'llm\\\\chains\\\\hf_chain\\\\data\\\\BerensEM_MythsLegends_p.pdf'},\n",
       "  'type': 'Document'},\n",
       " {'page_content': 'upon his eldest son, the brave and valiant Hector.\\nAt the approach of the Greek ﬂeet the Trojans appeared on the coast in 2030 [ 26 ]\\norder to prevent their landing. But great hesitation prevailed among the troops\\nas to who should be the ﬁrst to set foot on the enemy’s soil, it having been\\npredicted that whoever did so would fall a sacriﬁce to the Fates. Protesilaus of',\n",
       "  'metadata': {'page': 255,\n",
       "   'source': 'llm\\\\chains\\\\hf_chain\\\\data\\\\BerensEM_MythsLegends_p.pdf'},\n",
       "  'type': 'Document'},\n",
       " {'page_content': 'Commencement of Hostilities. —Having received early intelligence of the 2029 [ 25 ]\\nimpending invasion of their country, the Trojans sought the assistance of the\\nneighbouring states, who all gallantly responded to their call for help, and thus\\nample preparations were made to receive the enemy. King Priam being himself\\ntoo advanced in years for active service, the command of the army devolved',\n",
       "  'metadata': {'page': 255,\n",
       "   'source': 'llm\\\\chains\\\\hf_chain\\\\data\\\\BerensEM_MythsLegends_p.pdf'},\n",
       "  'type': 'Document'},\n",
       " {'page_content': 'must ﬁght in their ranks; secondly, the arrows of Heracles must be used against\\nthe enemy; and thirdly, they must obtain possession of the wooden image of\\nPallas-Athene, the famous Palladium of Troy.\\nThe ﬁrst condition was easily fulﬁlled. Ever ready to serve the interests 2088 [ 57 ]\\nof the community, Odysseus repaired to the island of Scyros, where he found',\n",
       "  'metadata': {'page': 262,\n",
       "   'source': 'llm\\\\chains\\\\hf_chain\\\\data\\\\BerensEM_MythsLegends_p.pdf'},\n",
       "  'type': 'Document'}]"
      ]
     },
     "execution_count": 5,
     "metadata": {},
     "output_type": "execute_result"
    }
   ],
   "source": [
    "mythology_semantic_search(\"What are the 3 conditions which were crucial to the conquest of Troy which was learnt by the Greeks from the Trojan prince??\")"
   ]
  },
  {
   "cell_type": "code",
   "execution_count": 6,
   "id": "e1931549-c84f-4a86-8df0-c7297f709f15",
   "metadata": {},
   "outputs": [
    {
     "data": {
      "text/plain": [
       "{'result': ' The three conditions that were crucial to the conquest of Troy, as learnt by the Greeks from the Trojan prince, are:\\n1. The son of Achilles (Neoptolemus) must kill Hector, the eldest son of Priam.\\n2. Protesilaus, a Greek warrior, must be the first to set foot on the enemy’s soil, even though it was predicted that whoever does so would fall a sacrifice to the Fates',\n",
       " 'source_documents': [Document(page_content='The Myths and Legends of Ancient Greece and Rome E. M. Berens\\nthe gift of prophecy, and the unfortunate youth was now coerced by Odysseus\\ninto using this gift against the welfare of his native city.\\nThe Greeks learned from the Trojan prince that three conditions were in- 2087 [ 56 ]\\ndispensable to the conquest of Troy:—In the ﬁrst place the son of Achilles', metadata={'page': 262, 'source': 'llm\\\\chains\\\\hf_chain\\\\data\\\\BerensEM_MythsLegends_p.pdf'}),\n",
       "  Document(page_content='upon his eldest son, the brave and valiant Hector.\\nAt the approach of the Greek ﬂeet the Trojans appeared on the coast in 2030 [ 26 ]\\norder to prevent their landing. But great hesitation prevailed among the troops\\nas to who should be the ﬁrst to set foot on the enemy’s soil, it having been\\npredicted that whoever did so would fall a sacriﬁce to the Fates. Protesilaus of', metadata={'page': 255, 'source': 'llm\\\\chains\\\\hf_chain\\\\data\\\\BerensEM_MythsLegends_p.pdf'}),\n",
       "  Document(page_content='Commencement of Hostilities. —Having received early intelligence of the 2029 [ 25 ]\\nimpending invasion of their country, the Trojans sought the assistance of the\\nneighbouring states, who all gallantly responded to their call for help, and thus\\nample preparations were made to receive the enemy. King Priam being himself\\ntoo advanced in years for active service, the command of the army devolved', metadata={'page': 255, 'source': 'llm\\\\chains\\\\hf_chain\\\\data\\\\BerensEM_MythsLegends_p.pdf'}),\n",
       "  Document(page_content='Troy, in which the former was vanquished and forced to ﬂy from his dominions\\nin Phrygia. He emigrated into Greece, where, at the court of Œnomaus, king of 1645\\nElis, he beheld Hippodamia, the king’s daughter, whose beauty won his heart.\\nBut an oracle having foretold to Œnomaus that he would die on the day of\\nhis daughter’s marriage, he threw every obstacle in the way of her suitors, and', metadata={'page': 209, 'source': 'llm\\\\chains\\\\hf_chain\\\\data\\\\BerensEM_MythsLegends_p.pdf'})]}"
      ]
     },
     "execution_count": 6,
     "metadata": {},
     "output_type": "execute_result"
    }
   ],
   "source": [
    "rag_mixtral = RemoteRunnable(f\"{LLM_URL}/llm/rag_mixtral\")\n",
    "rag_mixtral.invoke(\"What are the 3 conditions which were crucial to the conquest of Troy which was learnt by the Greeks from the Trojan prince?\")"
   ]
  },
  {
   "cell_type": "code",
   "execution_count": 7,
   "id": "0679f0bd-63bc-4a72-ad46-269e5be01774",
   "metadata": {},
   "outputs": [
    {
     "data": {
      "text/plain": [
       "{'text': \"\\nThe story of the Sultan of Melaka, also known as Sultan Mansur Shah, and his desire to marry the Princess of Pahang is a fascinating one. It's rooted in the political alliances, love, and the rich tapestry of mythology and history in the Malay archipelago.\\n\\nThe tale begins with Sultan Mansur Shah seeking to strengthen his kingdom's influence and foster peace. He decided to achieve this by marrying\"}"
      ]
     },
     "execution_count": 7,
     "metadata": {},
     "output_type": "execute_result"
    }
   ],
   "source": [
    "mixtral3 = RemoteRunnable(f\"{LLM_URL}/llm/mixtral\")\n",
    "mixtral3.invoke(\"Why sultan of melaka want to marry the princess?\")"
   ]
  },
  {
   "cell_type": "code",
   "execution_count": 9,
   "id": "3fd48999-8a49-4958-846b-225951f0f8f2",
   "metadata": {},
   "outputs": [
    {
     "data": {
      "text/plain": [
       "{'result': ' The Sultan of Melaka wanted to marry the fairy princess from Mount Ledang due to her breathtaking beauty and intelligence. However, the princess set impossible tasks for the Sultan to fulfill as a condition for marriage.',\n",
       " 'source_documents': [Document(page_content='The Sultan found her tasks impossible to do and told her so. Then, he realized that the princess was teaching her the value of ruling justly and with compassion. The Sultan realized he must have a happy, united kingdom to win the princessâ€™s hand. This is one of the most fantastical Malaysian legends of all time!', metadata={'page': 1, 'source': 'llm\\\\chains\\\\hf_chain\\\\data\\\\malaysian mythology.txt'}),\n",
       "  Document(page_content='Malaysian Folk Tales And Mythical Stories\\nThe Legend Of Puteri Gunung Ledang â€“ A Prominent Story From Malay Folklore\\nThis is one of the most famous tales in Malay folklore. It tells the story of a breathtaking fairy princess that lived on the top of Mount Ledang. Enthralled by her intelligence, she was pursued by the Sultan of Melaka, who wanted to marry her.', metadata={'page': 1, 'source': 'llm\\\\chains\\\\hf_chain\\\\data\\\\malaysian mythology.txt'}),\n",
       "  Document(page_content='However, the fairy princess was a cunning one. She set impossible conditions for the Sultan to take her hand. One of the tasks was to fill a golden bowl with a virginâ€™s tears, another was about delivering seven trays of betel nuts from seven different states.', metadata={'page': 1, 'source': 'llm\\\\chains\\\\hf_chain\\\\data\\\\malaysian mythology.txt'}),\n",
       "  Document(page_content='friendly challenge. Seri Rana Wikrama took great pleasure in tests of skill and agreed. As decreed by the Indian king, the loser would owe the victor seven ships of cargo. Badang competed against Nadi Bijaya in several contests of strength and wrestling but the result was always tied. Finally, Nadi Bijaya suggested that whoever can lift the large rock in front of the palace shall be declared the', metadata={'page': 1, 'source': 'llm\\\\chains\\\\hf_chain\\\\data\\\\badang.txt'})]}"
      ]
     },
     "execution_count": 9,
     "metadata": {},
     "output_type": "execute_result"
    }
   ],
   "source": [
    "rag_mixtral = RemoteRunnable(f\"{LLM_URL}/llm/rag_mixtral\")\n",
    "rag_mixtral.invoke(\"Why sultan of melaka want to marry the princess?\")"
   ]
  },
  {
   "cell_type": "code",
   "execution_count": 15,
   "id": "3ee7abe4-f6db-4f55-80c4-20716f8421aa",
   "metadata": {},
   "outputs": [
    {
     "data": {
      "text/plain": [
       "[{'page_content': \"Over time, Badang had become known in other nearby countries as well. The king of Kalinga on the Indian subcontinent wanted to test Badang's strength against his own champion, Nadi Bijaya (or Wadi Bijaya) who was reputed to be stronger than all the other strongmen of his kingdom. The Indian warrior sailed to the Malay Archipelago and greeted the local king with the friendly challenge. Seri Rana\",\n",
       "  'metadata': {'page': 1, 'source': 'llm\\\\chains\\\\hf_chain\\\\data\\\\badang.txt'},\n",
       "  'type': 'Document'},\n",
       " {'page_content': \"Badang became immensely strong. One day, Nira Sura wanted to expand his farm land in Baruah. But Nira Sura found out that Badang was resting in mid day and he suspected that Badang didn't do his work. Nira sura found that a large section of the forest was cleared so quickly and Badang explained everything that had transpired. The landowner was so grateful for the servant's loyalty that he freed\",\n",
       "  'metadata': {'page': 1, 'source': 'llm\\\\chains\\\\hf_chain\\\\data\\\\badang.txt'},\n",
       "  'type': 'Document'},\n",
       " {'page_content': \"loyalty that he freed Badang from slavery on the condition that he never boasts of his strength and uses it to help others. When news of Badang's feat reached the Kingdom of Singapura, the Raja Sri Rana Wicrama invited Badang to the kingdom, to appoint him a Raden (a princely title).\",\n",
       "  'metadata': {'page': 1, 'source': 'llm\\\\chains\\\\hf_chain\\\\data\\\\badang.txt'},\n",
       "  'type': 'Document'},\n",
       " {'page_content': 'Badang was frequently asked to do favours. He often helped farmers and villagers carry their goods in place of a horse and carriage. The king once asked him to gather the tasty kuras leaves from Kuala Sayong in Sumatra, so Badang set off in a boat by himself. When he climbed the kuras tree, its branch broke and Badang fell a long way, his head hitting a rock. To his surprise, Badang was',\n",
       "  'metadata': {'page': 1, 'source': 'llm\\\\chains\\\\hf_chain\\\\data\\\\badang.txt'},\n",
       "  'type': 'Document'}]"
      ]
     },
     "execution_count": 15,
     "metadata": {},
     "output_type": "execute_result"
    }
   ],
   "source": [
    "mythology_semantic_search(\"How did badang become so strong?\")"
   ]
  },
  {
   "cell_type": "code",
   "execution_count": 6,
   "id": "5a0b93d3-121e-42bd-9203-98851fcb5088",
   "metadata": {},
   "outputs": [
    {
     "data": {
      "text/plain": [
       "[{'page_content': \"Badang became immensely strong. One day, Nira Sura wanted to expand his farm land in Baruah. But Nira Sura found out that Badang was resting in mid day and he suspected that Badang didn't do his work. Nira sura found that a large section of the forest was cleared so quickly and Badang explained everything that had transpired. The landowner was so grateful for the servant's loyalty that he freed Badang from slavery on the condition that he never boasts of his strength and uses it to help others. When news of Badang's feat reached the Kingdom of Singapura, the Raja Sri Rana Wicrama invited Badang to the kingdom, to appoint him a Raden (a princely title).\",\n",
       "  'metadata': {'page': 1, 'source': 'llm\\\\chains\\\\hf_chain\\\\data\\\\badang.txt'},\n",
       "  'type': 'Document'},\n",
       " {'page_content': \"Over time, Badang had become known in other nearby countries as well. The king of Kalinga on the Indian subcontinent wanted to test Badang's strength against his own champion, Nadi Bijaya (or Wadi Bijaya) who was reputed to be stronger than all the other strongmen of his kingdom. The Indian warrior sailed to the Malay Archipelago and greeted the local king with the friendly challenge. Seri Rana Wikrama took great pleasure in tests of skill and agreed. As decreed by the Indian king, the loser would owe the victor seven ships of cargo. Badang competed against Nadi Bijaya in several contests of strength and wrestling but the result was always tied. Finally, Nadi Bijaya suggested that whoever can lift the large rock in front of the palace shall be declared the winner. He then lifted the rock to his knees and immediately dropped it. When it was Badang's turn, he lifted the rock above his head and threw it, where it landed at the mouth of the Singapore River. Nadi Bijaya acceded to the\",\n",
       "  'metadata': {'page': 1, 'source': 'llm\\\\chains\\\\hf_chain\\\\data\\\\badang.txt'},\n",
       "  'type': 'Document'},\n",
       " {'page_content': 'Badang was frequently asked to do favours. He often helped farmers and villagers carry their goods in place of a horse and carriage. The king once asked him to gather the tasty kuras leaves from Kuala Sayong in Sumatra, so Badang set off in a boat by himself. When he climbed the kuras tree, its branch broke and Badang fell a long way, his head hitting a rock. To his surprise, Badang was completely unharmed and the rock was split in two. Today, that rock is called the Split Stone (Batu Belah).',\n",
       "  'metadata': {'page': 1, 'source': 'llm\\\\chains\\\\hf_chain\\\\data\\\\badang.txt'},\n",
       "  'type': 'Document'},\n",
       " {'page_content': 'One day, the Raja had a large boat constructed and instructed fifty men to push it into the water, but they were unable to do so. Badang continually offered to help but the men refused, saying that no one so small would make any difference. The Raja eventually sent 300 men to help push the vessel but it was to no avail. The Raja then sent 3000 men to push the boat, but all of them failed. The Raja then gave Badang the chance to push the boat by himself, and Badang was able to do so. For his feat, the Raja Sri Rana Wicrama appointed Badang a hulubalang, or Champion, of his court.',\n",
       "  'metadata': {'page': 1, 'source': 'llm\\\\chains\\\\hf_chain\\\\data\\\\badang.txt'},\n",
       "  'type': 'Document'}]"
      ]
     },
     "execution_count": 6,
     "metadata": {},
     "output_type": "execute_result"
    }
   ],
   "source": [
    "mythology_semantic_search(\"How did badang get his strength?\")"
   ]
  },
  {
   "cell_type": "code",
   "execution_count": 14,
   "id": "73b5c0e0-d536-4e89-a7ac-af3682f2feac",
   "metadata": {},
   "outputs": [
    {
     "data": {
      "text/plain": [
       "{'text': '\\nBadang is a legendary figure in Malay folklore, often compared to the Hercules of the West. His story of strength is both fascinating and enchanting.\\n\\nAccording to the legend, Badang was a humble porter working at the royal palace in Singapore. He was known for his physical strength, but his true power was yet to be discovered.\\n\\nOne day, a challenge was issued by a visiting prince from India. The challenge was to move a'}"
      ]
     },
     "execution_count": 14,
     "metadata": {},
     "output_type": "execute_result"
    }
   ],
   "source": [
    "mixtral3 = RemoteRunnable(f\"{LLM_URL}/llm/mixtral\")\n",
    "mixtral3.invoke(\"??How did badang become so strong??\")"
   ]
  },
  {
   "cell_type": "code",
   "execution_count": 18,
   "id": "f05ba151-26bf-4b22-9602-eac4fb0e0ae9",
   "metadata": {},
   "outputs": [
    {
     "data": {
      "text/plain": [
       "{'result': ' Badang gained his immense strength through a supernatural means. According to the myth, after falling from a kuras tree and surviving unscathed, Badang discovered he had immense strength. The exact source of this strength varies in different versions of the story. In one version, Badang acquired his strength by eating the vomit of a demon who granted him a wish in exchange for mercy. In another version, he swallowed two red gems called geliga that the demon coughed up',\n",
       " 'source_documents': [Document(page_content=\"Badang became immensely strong. One day, Nira Sura wanted to expand his farm land in Baruah. But Nira Sura found out that Badang was resting in mid day and he suspected that Badang didn't do his work. Nira sura found that a large section of the forest was cleared so quickly and Badang explained everything that had transpired. The landowner was so grateful for the servant's loyalty that he freed Badang from slavery on the condition that he never boasts of his strength and uses it to help others. When news of Badang's feat reached the Kingdom of Singapura, the Raja Sri Rana Wicrama invited Badang to the kingdom, to appoint him a Raden (a princely title).\", metadata={'page': 1, 'source': 'llm\\\\chains\\\\hf_chain\\\\data\\\\badang.txt'}),\n",
       "  Document(page_content=\"Over time, Badang had become known in other nearby countries as well. The king of Kalinga on the Indian subcontinent wanted to test Badang's strength against his own champion, Nadi Bijaya (or Wadi Bijaya) who was reputed to be stronger than all the other strongmen of his kingdom. The Indian warrior sailed to the Malay Archipelago and greeted the local king with the friendly challenge. Seri Rana Wikrama took great pleasure in tests of skill and agreed. As decreed by the Indian king, the loser would owe the victor seven ships of cargo. Badang competed against Nadi Bijaya in several contests of strength and wrestling but the result was always tied. Finally, Nadi Bijaya suggested that whoever can lift the large rock in front of the palace shall be declared the winner. He then lifted the rock to his knees and immediately dropped it. When it was Badang's turn, he lifted the rock above his head and threw it, where it landed at the mouth of the Singapore River. Nadi Bijaya acceded to the\", metadata={'page': 1, 'source': 'llm\\\\chains\\\\hf_chain\\\\data\\\\badang.txt'}),\n",
       "  Document(page_content='Badang was frequently asked to do favours. He often helped farmers and villagers carry their goods in place of a horse and carriage. The king once asked him to gather the tasty kuras leaves from Kuala Sayong in Sumatra, so Badang set off in a boat by himself. When he climbed the kuras tree, its branch broke and Badang fell a long way, his head hitting a rock. To his surprise, Badang was completely unharmed and the rock was split in two. Today, that rock is called the Split Stone (Batu Belah).', metadata={'page': 1, 'source': 'llm\\\\chains\\\\hf_chain\\\\data\\\\badang.txt'}),\n",
       "  Document(page_content='Badang seized the demon and tied its hair to a rock. The demon begged for mercy and promised to grant Badang any wish if he spared his life. Badang wished for strength so that he would not tire working. The demon said that if Badang wanted great strength, he would have to swallow whatever he coughs up. The demon then vomited and Badang ate its vomit. In some versions the demon coughed out two red gems called geliga for Badang to swallow.', metadata={'page': 1, 'source': 'llm\\\\chains\\\\hf_chain\\\\data\\\\badang.txt'})]}"
      ]
     },
     "execution_count": 18,
     "metadata": {},
     "output_type": "execute_result"
    }
   ],
   "source": [
    "rag_mixtral = RemoteRunnable(f\"{LLM_URL}/llm/rag_mixtral\")\n",
    "rag_mixtral.invoke(\"How did badang become so strong??\")"
   ]
  },
  {
   "cell_type": "code",
   "execution_count": 17,
   "id": "f001a2b1-4715-4724-bacd-d328a0739024",
   "metadata": {},
   "outputs": [
    {
     "data": {
      "text/plain": [
       "{'result': \" \\nBadang's strength is a central theme in his story and is often attributed to supernatural or mythical sources. However, the specific origin of his strength is not explicitly stated in the narrative you've provided. It's possible that Badang was born with his strength as a unique characteristic, or perhaps he acquired it through a blessing or a divine intervention. The narrative suggests that Badang's strength is extraordinary, as he is able to perform feats that normal men cannot\",\n",
       " 'source_documents': [Document(page_content=\"Badang became immensely strong. One day, Nira Sura wanted to expand his farm land in Baruah. But Nira Sura found out that Badang was resting in mid day and he suspected that Badang didn't do his work. Nira sura found that a large section of the forest was cleared so quickly and Badang explained everything that had transpired. The landowner was so grateful for the servant's loyalty that he freed Badang from slavery on the condition that he never boasts of his strength and uses it to help others. When news of Badang's feat reached the Kingdom of Singapura, the Raja Sri Rana Wicrama invited Badang to the kingdom, to appoint him a Raden (a princely title).\", metadata={'page': 1, 'source': 'llm\\\\chains\\\\hf_chain\\\\data\\\\badang.txt'}),\n",
       "  Document(page_content=\"Over time, Badang had become known in other nearby countries as well. The king of Kalinga on the Indian subcontinent wanted to test Badang's strength against his own champion, Nadi Bijaya (or Wadi Bijaya) who was reputed to be stronger than all the other strongmen of his kingdom. The Indian warrior sailed to the Malay Archipelago and greeted the local king with the friendly challenge. Seri Rana Wikrama took great pleasure in tests of skill and agreed. As decreed by the Indian king, the loser would owe the victor seven ships of cargo. Badang competed against Nadi Bijaya in several contests of strength and wrestling but the result was always tied. Finally, Nadi Bijaya suggested that whoever can lift the large rock in front of the palace shall be declared the winner. He then lifted the rock to his knees and immediately dropped it. When it was Badang's turn, he lifted the rock above his head and threw it, where it landed at the mouth of the Singapore River. Nadi Bijaya acceded to the\", metadata={'page': 1, 'source': 'llm\\\\chains\\\\hf_chain\\\\data\\\\badang.txt'}),\n",
       "  Document(page_content='One day, the Raja had a large boat constructed and instructed fifty men to push it into the water, but they were unable to do so. Badang continually offered to help but the men refused, saying that no one so small would make any difference. The Raja eventually sent 300 men to help push the vessel but it was to no avail. The Raja then sent 3000 men to push the boat, but all of them failed. The Raja then gave Badang the chance to push the boat by himself, and Badang was able to do so. For his feat, the Raja Sri Rana Wicrama appointed Badang a hulubalang, or Champion, of his court.', metadata={'page': 1, 'source': 'llm\\\\chains\\\\hf_chain\\\\data\\\\badang.txt'}),\n",
       "  Document(page_content='Badang was frequently asked to do favours. He often helped farmers and villagers carry their goods in place of a horse and carriage. The king once asked him to gather the tasty kuras leaves from Kuala Sayong in Sumatra, so Badang set off in a boat by himself. When he climbed the kuras tree, its branch broke and Badang fell a long way, his head hitting a rock. To his surprise, Badang was completely unharmed and the rock was split in two. Today, that rock is called the Split Stone (Batu Belah).', metadata={'page': 1, 'source': 'llm\\\\chains\\\\hf_chain\\\\data\\\\badang.txt'})]}"
      ]
     },
     "execution_count": 17,
     "metadata": {},
     "output_type": "execute_result"
    }
   ],
   "source": [
    "rag_mixtral = RemoteRunnable(f\"{LLM_URL}/llm/rag_mixtral\")\n",
    "rag_mixtral.invoke(\"How did badang get his strength??\")"
   ]
  },
  {
   "cell_type": "code",
   "execution_count": 8,
   "id": "b14fb7fc-be0e-49a2-aef1-d3a84193f7e7",
   "metadata": {},
   "outputs": [
    {
     "data": {
      "text/plain": [
       "{'result': ' Seven trays of betel nuts, from seven different states.',\n",
       " 'source_documents': [Document(page_content='Malaysian Folk Tales And Mythical Stories\\nThe Legend Of Puteri Gunung Ledang â€“ A Prominent Story From Malay Folklore\\nThis is one of the most famous tales in Malay folklore. It tells the story of a breathtaking fairy princess that lived on the top of Mount Ledang. Enthralled by her intelligence, she was pursued by the Sultan of Melaka, who wanted to marry her.\\n\\nHowever, the fairy princess was a cunning one. She set impossible conditions for the Sultan to take her hand. One of the tasks was to fill a golden bowl with a virginâ€™s tears, another was about delivering seven trays of betel nuts from seven different states.\\n\\nThe Sultan found her tasks impossible to do and told her so. Then, he realized that the princess was teaching her the value of ruling justly and with compassion. The Sultan realized he must have a happy, united kingdom to win the princessâ€™s hand. This is one of the most fantastical Malaysian legends of all time!', metadata={'page': 1, 'source': 'llm\\\\chains\\\\hf_chain\\\\data\\\\malaysian mythology.txt'}),\n",
       "  Document(page_content='Badang seized the demon and tied its hair to a rock. The demon begged for mercy and promised to grant Badang any wish if he spared his life. Badang wished for strength so that he would not tire working. The demon said that if Badang wanted great strength, he would have to swallow whatever he coughs up. The demon then vomited and Badang ate its vomit. In some versions the demon coughed out two red gems called geliga for Badang to swallow.', metadata={'page': 1, 'source': 'llm\\\\chains\\\\hf_chain\\\\data\\\\badang.txt'}),\n",
       "  Document(page_content='Badang was frequently asked to do favours. He often helped farmers and villagers carry their goods in place of a horse and carriage. The king once asked him to gather the tasty kuras leaves from Kuala Sayong in Sumatra, so Badang set off in a boat by himself. When he climbed the kuras tree, its branch broke and Badang fell a long way, his head hitting a rock. To his surprise, Badang was completely unharmed and the rock was split in two. Today, that rock is called the Split Stone (Batu Belah).', metadata={'page': 1, 'source': 'llm\\\\chains\\\\hf_chain\\\\data\\\\badang.txt'}),\n",
       "  Document(page_content='One day, the Raja had a large boat constructed and instructed fifty men to push it into the water, but they were unable to do so. Badang continually offered to help but the men refused, saying that no one so small would make any difference. The Raja eventually sent 300 men to help push the vessel but it was to no avail. The Raja then sent 3000 men to push the boat, but all of them failed. The Raja then gave Badang the chance to push the boat by himself, and Badang was able to do so. For his feat, the Raja Sri Rana Wicrama appointed Badang a hulubalang, or Champion, of his court.', metadata={'page': 1, 'source': 'llm\\\\chains\\\\hf_chain\\\\data\\\\badang.txt'})]}"
      ]
     },
     "execution_count": 8,
     "metadata": {},
     "output_type": "execute_result"
    }
   ],
   "source": [
    "rag_mixtral5 = RemoteRunnable(f\"{LLM_URL}/llm/rag_mixtral\")\n",
    "rag_mixtral5.invoke(\"How many TRAYS of betel nuts did the princess of gunung ledang requested from the Sultan??\")"
   ]
  },
  {
   "cell_type": "code",
   "execution_count": 13,
   "id": "31b3646e-e97f-48cf-b813-2b066507fda4",
   "metadata": {},
   "outputs": [
    {
     "data": {
      "text/plain": [
       "{'result': ' Seven trays of betel nuts, from seven different states.',\n",
       " 'source_documents': [Document(page_content='Malaysian Folk Tales And Mythical Stories\\nThe Legend Of Puteri Gunung Ledang â€“ A Prominent Story From Malay Folklore\\nThis is one of the most famous tales in Malay folklore. It tells the story of a breathtaking fairy princess that lived on the top of Mount Ledang. Enthralled by her intelligence, she was pursued by the Sultan of Melaka, who wanted to marry her.\\n\\nHowever, the fairy princess was a cunning one. She set impossible conditions for the Sultan to take her hand. One of the tasks was to fill a golden bowl with a virginâ€™s tears, another was about delivering seven trays of betel nuts from seven different states.\\n\\nThe Sultan found her tasks impossible to do and told her so. Then, he realized that the princess was teaching her the value of ruling justly and with compassion. The Sultan realized he must have a happy, united kingdom to win the princessâ€™s hand. This is one of the most fantastical Malaysian legends of all time!', metadata={'page': 1, 'source': 'llm\\\\chains\\\\hf_chain\\\\data\\\\malaysian mythology.txt'}),\n",
       "  Document(page_content='Badang seized the demon and tied its hair to a rock. The demon begged for mercy and promised to grant Badang any wish if he spared his life. Badang wished for strength so that he would not tire working. The demon said that if Badang wanted great strength, he would have to swallow whatever he coughs up. The demon then vomited and Badang ate its vomit. In some versions the demon coughed out two red gems called geliga for Badang to swallow.', metadata={'page': 1, 'source': 'llm\\\\chains\\\\hf_chain\\\\data\\\\badang.txt'}),\n",
       "  Document(page_content='Badang was frequently asked to do favours. He often helped farmers and villagers carry their goods in place of a horse and carriage. The king once asked him to gather the tasty kuras leaves from Kuala Sayong in Sumatra, so Badang set off in a boat by himself. When he climbed the kuras tree, its branch broke and Badang fell a long way, his head hitting a rock. To his surprise, Badang was completely unharmed and the rock was split in two. Today, that rock is called the Split Stone (Batu Belah).', metadata={'page': 1, 'source': 'llm\\\\chains\\\\hf_chain\\\\data\\\\badang.txt'}),\n",
       "  Document(page_content='One day, the Raja had a large boat constructed and instructed fifty men to push it into the water, but they were unable to do so. Badang continually offered to help but the men refused, saying that no one so small would make any difference. The Raja eventually sent 300 men to help push the vessel but it was to no avail. The Raja then sent 3000 men to push the boat, but all of them failed. The Raja then gave Badang the chance to push the boat by himself, and Badang was able to do so. For his feat, the Raja Sri Rana Wicrama appointed Badang a hulubalang, or Champion, of his court.', metadata={'page': 1, 'source': 'llm\\\\chains\\\\hf_chain\\\\data\\\\badang.txt'})]}"
      ]
     },
     "execution_count": 13,
     "metadata": {},
     "output_type": "execute_result"
    }
   ],
   "source": [
    "rag_mixtral6 = RemoteRunnable(f\"{LLM_URL}/llm/rag_mixtral\")\n",
    "rag_mixtral6.invoke(\"How many TRAYS of betel nuts did the princess of gunung ledang requested from the Sultan??\")"
   ]
  },
  {
   "cell_type": "code",
   "execution_count": 11,
   "id": "577e152e-335d-447d-954a-e7f374e6455a",
   "metadata": {},
   "outputs": [
    {
     "data": {
      "text/plain": [
       "{'result': ' \\nThe Raja initially instructed fifty men to push the boat into the water.',\n",
       " 'source_documents': [Document(page_content='One day, the Raja had a large boat constructed and instructed fifty men to push it into the water, but they were unable to do so. Badang continually offered to help but the men refused, saying that no one so small would make any difference. The Raja eventually sent 300 men to help push the vessel but it was to no avail. The Raja then sent 3000 men to push the boat, but all of them failed. The Raja then gave Badang the chance to push the boat by himself, and Badang was able to do so. For his feat, the Raja Sri Rana Wicrama appointed Badang a hulubalang, or Champion, of his court.', metadata={'page': 1, 'source': 'llm\\\\chains\\\\hf_chain\\\\data\\\\badang.txt'}),\n",
       "  Document(page_content=\"Over time, Badang had become known in other nearby countries as well. The king of Kalinga on the Indian subcontinent wanted to test Badang's strength against his own champion, Nadi Bijaya (or Wadi Bijaya) who was reputed to be stronger than all the other strongmen of his kingdom. The Indian warrior sailed to the Malay Archipelago and greeted the local king with the friendly challenge. Seri Rana Wikrama took great pleasure in tests of skill and agreed. As decreed by the Indian king, the loser would owe the victor seven ships of cargo. Badang competed against Nadi Bijaya in several contests of strength and wrestling but the result was always tied. Finally, Nadi Bijaya suggested that whoever can lift the large rock in front of the palace shall be declared the winner. He then lifted the rock to his knees and immediately dropped it. When it was Badang's turn, he lifted the rock above his head and threw it, where it landed at the mouth of the Singapore River. Nadi Bijaya acceded to the\", metadata={'page': 1, 'source': 'llm\\\\chains\\\\hf_chain\\\\data\\\\badang.txt'}),\n",
       "  Document(page_content=\"Badang became immensely strong. One day, Nira Sura wanted to expand his farm land in Baruah. But Nira Sura found out that Badang was resting in mid day and he suspected that Badang didn't do his work. Nira sura found that a large section of the forest was cleared so quickly and Badang explained everything that had transpired. The landowner was so grateful for the servant's loyalty that he freed Badang from slavery on the condition that he never boasts of his strength and uses it to help others. When news of Badang's feat reached the Kingdom of Singapura, the Raja Sri Rana Wicrama invited Badang to the kingdom, to appoint him a Raden (a princely title).\", metadata={'page': 1, 'source': 'llm\\\\chains\\\\hf_chain\\\\data\\\\badang.txt'}),\n",
       "  Document(page_content='One day, Badang found that the fish-traps he laid in a river contained bones and scales. He prepared the fish-traps again, but the same incident went on for several days. Badang armed himself with a rattan stick, or a parang in some versions, and hid in the bushes of the jungle. The creature taking his fish was a demon, Jembalang air/hantu air or water spirit capable of taking the form of any flora and fauna which lives around bodies of water, described as having eyes red as fire, long matted hair, and a long beard covering its chest or reaching its waist.', metadata={'page': 1, 'source': 'llm\\\\chains\\\\hf_chain\\\\data\\\\badang.txt'})]}"
      ]
     },
     "execution_count": 11,
     "metadata": {},
     "output_type": "execute_result"
    }
   ],
   "source": [
    "rag_mixtral4 = RemoteRunnable(f\"{LLM_URL}/llm/rag_mixtral\")\n",
    "rag_mixtral4.invoke(\"How many men did Raja instructed to push the large boat??\")"
   ]
  },
  {
   "cell_type": "code",
   "execution_count": 14,
   "id": "9303339a-2422-48ec-bdef-0143f8ba86bf",
   "metadata": {},
   "outputs": [
    {
     "data": {
      "text/plain": [
       "{'text': \"\\nAh, you're asking about a specific mythological figure and his intentions. The Sultan of Melaka, or Malacca, is a character often found in Southeast Asian mythology and history. The most well-known Sultan is Sultan Mansur Shah, who ruled the Malacca Sultanate during its golden age in the 15th century.\\n\\nThe Malacca Sultanate was known for its strategic location and was a hub for trade and\"}"
      ]
     },
     "execution_count": 14,
     "metadata": {},
     "output_type": "execute_result"
    }
   ],
   "source": [
    "mixtral7 = RemoteRunnable(f\"{LLM_URL}/llm/mixtral\")\n",
    "mixtral7.invoke(\"Why sultan of melaka want to marry the princess?\")"
   ]
  },
  {
   "cell_type": "code",
   "execution_count": 15,
   "id": "decee4db-20d1-41c6-bc53-b4f98531853c",
   "metadata": {},
   "outputs": [
    {
     "data": {
      "text/plain": [
       "{'result': '\\nThe Sultan of Melaka wanted to marry the fairy princess of Mount Ledang because he was captivated by her intelligence and beauty. She was known as a breathtaking fairy princess who lived on the top of Mount Ledang, and her intelligence made her even more fascinating to the Sultan. It is a common theme in mythology and folklore for rulers to seek marriage with mythical or fairy-like figures, often as a way to gain wisdom,',\n",
       " 'source_documents': [Document(page_content='Malaysian Folk Tales And Mythical Stories\\nThe Legend Of Puteri Gunung Ledang â€“ A Prominent Story From Malay Folklore\\nThis is one of the most famous tales in Malay folklore. It tells the story of a breathtaking fairy princess that lived on the top of Mount Ledang. Enthralled by her intelligence, she was pursued by the Sultan of Melaka, who wanted to marry her.\\n\\nHowever, the fairy princess was a cunning one. She set impossible conditions for the Sultan to take her hand. One of the tasks was to fill a golden bowl with a virginâ€™s tears, another was about delivering seven trays of betel nuts from seven different states.\\n\\nThe Sultan found her tasks impossible to do and told her so. Then, he realized that the princess was teaching her the value of ruling justly and with compassion. The Sultan realized he must have a happy, united kingdom to win the princessâ€™s hand. This is one of the most fantastical Malaysian legends of all time!', metadata={'page': 1, 'source': 'llm\\\\chains\\\\hf_chain\\\\data\\\\malaysian mythology.txt'}),\n",
       "  Document(page_content=\"Over time, Badang had become known in other nearby countries as well. The king of Kalinga on the Indian subcontinent wanted to test Badang's strength against his own champion, Nadi Bijaya (or Wadi Bijaya) who was reputed to be stronger than all the other strongmen of his kingdom. The Indian warrior sailed to the Malay Archipelago and greeted the local king with the friendly challenge. Seri Rana Wikrama took great pleasure in tests of skill and agreed. As decreed by the Indian king, the loser would owe the victor seven ships of cargo. Badang competed against Nadi Bijaya in several contests of strength and wrestling but the result was always tied. Finally, Nadi Bijaya suggested that whoever can lift the large rock in front of the palace shall be declared the winner. He then lifted the rock to his knees and immediately dropped it. When it was Badang's turn, he lifted the rock above his head and threw it, where it landed at the mouth of the Singapore River. Nadi Bijaya acceded to the\", metadata={'page': 1, 'source': 'llm\\\\chains\\\\hf_chain\\\\data\\\\badang.txt'}),\n",
       "  Document(page_content='One day, the Raja had a large boat constructed and instructed fifty men to push it into the water, but they were unable to do so. Badang continually offered to help but the men refused, saying that no one so small would make any difference. The Raja eventually sent 300 men to help push the vessel but it was to no avail. The Raja then sent 3000 men to push the boat, but all of them failed. The Raja then gave Badang the chance to push the boat by himself, and Badang was able to do so. For his feat, the Raja Sri Rana Wicrama appointed Badang a hulubalang, or Champion, of his court.', metadata={'page': 1, 'source': 'llm\\\\chains\\\\hf_chain\\\\data\\\\badang.txt'}),\n",
       "  Document(page_content=\"Badang became immensely strong. One day, Nira Sura wanted to expand his farm land in Baruah. But Nira Sura found out that Badang was resting in mid day and he suspected that Badang didn't do his work. Nira sura found that a large section of the forest was cleared so quickly and Badang explained everything that had transpired. The landowner was so grateful for the servant's loyalty that he freed Badang from slavery on the condition that he never boasts of his strength and uses it to help others. When news of Badang's feat reached the Kingdom of Singapura, the Raja Sri Rana Wicrama invited Badang to the kingdom, to appoint him a Raden (a princely title).\", metadata={'page': 1, 'source': 'llm\\\\chains\\\\hf_chain\\\\data\\\\badang.txt'})]}"
      ]
     },
     "execution_count": 15,
     "metadata": {},
     "output_type": "execute_result"
    }
   ],
   "source": [
    "rag_mixtral7 = RemoteRunnable(f\"{LLM_URL}/llm/rag_mixtral\")\n",
    "rag_mixtral7.invoke(\"Why sultan of melaka want to marry the princess?\")"
   ]
  },
  {
   "cell_type": "code",
   "execution_count": null,
   "id": "1e1f36ec-452c-40a1-8740-55c5a0283493",
   "metadata": {},
   "outputs": [],
   "source": []
  }
 ],
 "metadata": {
  "kernelspec": {
   "display_name": "Python 3 (ipykernel)",
   "language": "python",
   "name": "python3"
  },
  "language_info": {
   "codemirror_mode": {
    "name": "ipython",
    "version": 3
   },
   "file_extension": ".py",
   "mimetype": "text/x-python",
   "name": "python",
   "nbconvert_exporter": "python",
   "pygments_lexer": "ipython3",
   "version": "3.10.4"
  }
 },
 "nbformat": 4,
 "nbformat_minor": 5
}
